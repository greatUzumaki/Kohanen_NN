{
 "cells": [
  {
   "cell_type": "markdown",
   "metadata": {},
   "source": [
    "# Библиотеки"
   ]
  },
  {
   "cell_type": "code",
   "execution_count": 246,
   "metadata": {},
   "outputs": [],
   "source": [
    "import numpy as np\n",
    "from random import shuffle\n",
    "from PIL.Image import open\n",
    "from os import listdir\n",
    "from typing import List\n",
    "import sys\n",
    "np.set_printoptions(threshold=sys.maxsize)"
   ]
  },
  {
   "cell_type": "markdown",
   "metadata": {},
   "source": [
    "# Класс нейронки"
   ]
  },
  {
   "cell_type": "code",
   "execution_count": 247,
   "metadata": {},
   "outputs": [],
   "source": [
    "class KN:\n",
    "    lr = 0.6\n",
    "\n",
    "    def __init__(self, input, clasters): \n",
    "        self.weights = np.random.uniform(low=-0.3, high=0.3, size=(clasters, input))\n",
    "        self.weights = self.weights.round(2)\n",
    "\n",
    "    def predict(self, vector: np.ndarray):\n",
    "        res: np.ndarray =  np.power((vector - self.weights), 2).sum(axis=1)\n",
    "        winner_index = res.argmin()\n",
    "        return winner_index\n",
    "\n",
    "    def train(self, vector: np.ndarray):\n",
    "        winner_index = self.predict(vector)\n",
    "        delta: np.ndarray = self.lr * (vector - self.weights[winner_index])\n",
    "        self.weights[winner_index] += delta\n",
    "        return np.abs(delta)"
   ]
  },
  {
   "cell_type": "markdown",
   "metadata": {},
   "source": [
    "# Загрузка датасета"
   ]
  },
  {
   "cell_type": "code",
   "execution_count": 248,
   "metadata": {},
   "outputs": [],
   "source": [
    "def normalize(image: np.ndarray):\n",
    "    new_image = []\n",
    "    for rgb in image:\n",
    "        rgb: np.ndarray\n",
    "        if (rgb == [255,255,255]).all():\n",
    "            new_image.append(0)\n",
    "        else:\n",
    "            new_image.append(1)\n",
    "\n",
    "    return np.array(new_image)"
   ]
  },
  {
   "cell_type": "code",
   "execution_count": 249,
   "metadata": {},
   "outputs": [],
   "source": [
    "dataset: List[tuple] = []\n",
    "for file in listdir('data'):\n",
    "    image = np.array(open(f'data/{file}'))\n",
    "    x_max, y_max, _ = image.shape\n",
    "    image = image.reshape((x_max*y_max, 3))\n",
    "    image = normalize(image)\n",
    "    dataset.append(tuple((file, image)))"
   ]
  },
  {
   "cell_type": "markdown",
   "metadata": {},
   "source": [
    "# Обучение"
   ]
  },
  {
   "cell_type": "code",
   "execution_count": 250,
   "metadata": {},
   "outputs": [],
   "source": [
    "kn = KN(2500, 2)\n",
    "epoch = 200\n",
    "kn.lr = 0.9\n",
    "all_deltas = []\n",
    "delta = np.zeros(shape=2500) \n",
    "epoch_count = 0\n",
    "\n",
    "for i in range(epoch):\n",
    "    shuffle(dataset)\n",
    "    for _, image in dataset:\n",
    "        delta += kn.train(image)\n",
    "\n",
    "    delta /= len(dataset)\n",
    "    delta = np.average(delta)\n",
    "    all_deltas.append(delta)\n",
    "    if (delta < 0.05): break\n",
    "\n",
    "    epoch_count += 1\n",
    "    kn.lr *= 0.9"
   ]
  },
  {
   "cell_type": "markdown",
   "metadata": {},
   "source": [
    "# Кластеры"
   ]
  },
  {
   "cell_type": "code",
   "execution_count": 251,
   "metadata": {},
   "outputs": [
    {
     "name": "stdout",
     "output_type": "stream",
     "text": [
      "Изображение круг (8).png: Кластер 0\n",
      "Изображение круг (3).png: Кластер 0\n",
      "Изображение круг (17).png: Кластер 0\n",
      "Изображение крест (3).png: Кластер 1\n",
      "Изображение круг (4).png: Кластер 0\n",
      "Изображение круг (5).png: Кластер 0\n",
      "Изображение крест (20).png: Кластер 1\n",
      "Изображение крест (16).png: Кластер 1\n",
      "Изображение крест (5).png: Кластер 1\n",
      "Изображение крест (6).png: Кластер 1\n",
      "Изображение круг (20).png: Кластер 0\n",
      "Изображение круг (15).png: Кластер 0\n",
      "Изображение крест (2).png: Кластер 1\n",
      "Изображение круг (2).png: Кластер 0\n",
      "Изображение крест (8).png: Кластер 1\n",
      "Изображение круг (14).png: Кластер 0\n",
      "Изображение крест (19).png: Кластер 1\n",
      "Изображение крест (9).png: Кластер 1\n",
      "Изображение круг (13).png: Кластер 0\n",
      "Изображение крест (1).png: Кластер 1\n",
      "Изображение крест (4).png: Кластер 1\n",
      "Изображение крест (7).png: Кластер 1\n",
      "Изображение круг (6).png: Кластер 0\n",
      "Изображение крест (12).png: Кластер 1\n",
      "Изображение крест (18).png: Кластер 1\n",
      "Изображение круг (1).png: Кластер 0\n",
      "Изображение крест (15).png: Кластер 1\n",
      "Изображение крест (10).png: Кластер 1\n",
      "Изображение круг (18).png: Кластер 0\n",
      "Изображение круг (11).png: Кластер 0\n",
      "Изображение круг (9).png: Кластер 0\n",
      "Изображение круг (7).png: Кластер 0\n",
      "Изображение крест (11).png: Кластер 1\n",
      "Изображение круг (16).png: Кластер 0\n",
      "Изображение крест (17).png: Кластер 1\n",
      "Изображение крест (13).png: Кластер 1\n",
      "Изображение круг (12).png: Кластер 0\n",
      "Изображение круг (19).png: Кластер 0\n",
      "Изображение круг (10).png: Кластер 0\n",
      "Изображение крест (14).png: Кластер 1\n",
      "[0.17429 0.16212 0.13827 0.13136 0.1159  0.10418 0.0956  0.08521 0.07656\n",
      " 0.06908 0.0631  0.05668 0.04999]\n",
      "12\n"
     ]
    }
   ],
   "source": [
    "for filename, image in dataset:\n",
    "    clusster = kn.predict(image)\n",
    "    print(f'Изображение {filename}: Кластер {clusster}')\n",
    "\n",
    "print(np.round(all_deltas, 5))\n",
    "print(epoch_count)"
   ]
  }
 ],
 "metadata": {
  "interpreter": {
   "hash": "b89b5cfaba6639976dc87ff2fec6d58faec662063367e2c229c520fe71072417"
  },
  "kernelspec": {
   "display_name": "Python 3.10.0 64-bit",
   "language": "python",
   "name": "python3"
  },
  "language_info": {
   "codemirror_mode": {
    "name": "ipython",
    "version": 3
   },
   "file_extension": ".py",
   "mimetype": "text/x-python",
   "name": "python",
   "nbconvert_exporter": "python",
   "pygments_lexer": "ipython3",
   "version": "3.10.2"
  },
  "orig_nbformat": 4
 },
 "nbformat": 4,
 "nbformat_minor": 2
}
