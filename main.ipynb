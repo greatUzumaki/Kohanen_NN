{
 "cells": [
  {
   "cell_type": "markdown",
   "metadata": {},
   "source": [
    "# Библиотеки"
   ]
  },
  {
   "cell_type": "code",
   "execution_count": 132,
   "metadata": {},
   "outputs": [],
   "source": [
    "import numpy as np\n",
    "from PIL.Image import open\n",
    "from os import listdir\n",
    "from typing import List"
   ]
  },
  {
   "cell_type": "markdown",
   "metadata": {},
   "source": [
    "# Класс нейронки"
   ]
  },
  {
   "cell_type": "code",
   "execution_count": 133,
   "metadata": {},
   "outputs": [],
   "source": [
    "class KN:\n",
    "    lr = 0.6\n",
    "    D_max = 0\n",
    "\n",
    "    def __init__(self, input, clasters): \n",
    "        np.random.seed(0)\n",
    "        self.weights = np.random.uniform(low=-0.3, high=0.3, size=(clasters, input))\n",
    "        self.weights = self.weights.round(2)\n",
    "\n",
    "    def predict(self, vector: np.ndarray):\n",
    "        res: np.ndarray =  np.power((vector - self.weights), 2).sum(axis=1)\n",
    "        winner_index = res.argmin()\n",
    "        return winner_index\n",
    "\n",
    "    def train(self, vector: np.ndarray):\n",
    "        winner_index = self.predict(vector)\n",
    "        for index in range(len(self.weights)):\n",
    "            delta: np.ndarray = self.lr * (vector - self.weights[index])\n",
    "            self.weights[index] += delta\n",
    "\n",
    "\n",
    "    "
   ]
  },
  {
   "cell_type": "markdown",
   "metadata": {},
   "source": [
    "# Загрузка датасета"
   ]
  },
  {
   "cell_type": "code",
   "execution_count": 134,
   "metadata": {},
   "outputs": [],
   "source": [
    "def normalize(image: np.ndarray):\n",
    "    new_image = []\n",
    "    for rgb in image:\n",
    "        rgb: np.ndarray\n",
    "        if (rgb == [255,255,255]).all():\n",
    "            new_image.append(0)\n",
    "        else:\n",
    "            new_image.append(1)\n",
    "\n",
    "    return np.array(new_image)\n",
    "\n"
   ]
  },
  {
   "cell_type": "code",
   "execution_count": 135,
   "metadata": {},
   "outputs": [],
   "source": [
    "dataset: List[np.ndarray] = []\n",
    "for file in listdir('data'):\n",
    "    image = np.array(open(f'data/{file}'))\n",
    "    x_max, y_max, _ = image.shape\n",
    "    image = image.reshape((x_max*y_max, 3))\n",
    "    image = normalize(image)\n",
    "    dataset.append(image)\n",
    "    "
   ]
  },
  {
   "cell_type": "markdown",
   "metadata": {},
   "source": [
    "# Обучение"
   ]
  },
  {
   "cell_type": "code",
   "execution_count": 136,
   "metadata": {},
   "outputs": [],
   "source": [
    "kn = KN(2500, 2)\n",
    "epoch = 50\n",
    "kn.lr = 0.9\n",
    "\n",
    "for i in range(epoch):\n",
    "    for image in dataset:\n",
    "        kn.train(image)\n",
    "    kn.lr *= 0.9999\n",
    "\n",
    "\n",
    "\n",
    "\n",
    "\n",
    "\n"
   ]
  },
  {
   "cell_type": "markdown",
   "metadata": {},
   "source": [
    "# Кластеры"
   ]
  },
  {
   "cell_type": "code",
   "execution_count": 137,
   "metadata": {},
   "outputs": [
    {
     "name": "stdout",
     "output_type": "stream",
     "text": [
      "Изображение 0: Кластер 0\n",
      "Изображение 1: Кластер 0\n",
      "Изображение 2: Кластер 0\n",
      "Изображение 3: Кластер 0\n",
      "Изображение 4: Кластер 0\n",
      "Изображение 5: Кластер 0\n",
      "Изображение 6: Кластер 0\n",
      "Изображение 7: Кластер 0\n",
      "Изображение 8: Кластер 0\n",
      "Изображение 9: Кластер 0\n",
      "Изображение 10: Кластер 0\n",
      "Изображение 11: Кластер 0\n",
      "Изображение 12: Кластер 0\n",
      "Изображение 13: Кластер 0\n",
      "Изображение 14: Кластер 0\n",
      "Изображение 15: Кластер 0\n",
      "Изображение 16: Кластер 0\n",
      "Изображение 17: Кластер 0\n",
      "Изображение 18: Кластер 0\n",
      "Изображение 19: Кластер 0\n",
      "Изображение 20: Кластер 0\n",
      "Изображение 21: Кластер 0\n",
      "Изображение 22: Кластер 0\n",
      "Изображение 23: Кластер 0\n",
      "Изображение 24: Кластер 0\n",
      "Изображение 25: Кластер 0\n",
      "Изображение 26: Кластер 0\n",
      "Изображение 27: Кластер 0\n",
      "Изображение 28: Кластер 0\n",
      "Изображение 29: Кластер 0\n",
      "Изображение 30: Кластер 0\n",
      "Изображение 31: Кластер 0\n",
      "Изображение 32: Кластер 0\n",
      "Изображение 33: Кластер 0\n",
      "Изображение 34: Кластер 0\n",
      "Изображение 35: Кластер 0\n",
      "Изображение 36: Кластер 0\n",
      "Изображение 37: Кластер 0\n",
      "Изображение 38: Кластер 0\n",
      "Изображение 39: Кластер 0\n"
     ]
    }
   ],
   "source": [
    "for i, image in enumerate(dataset):\n",
    "    clusster = kn.predict(image)\n",
    "    print(f'Изображение {i}: Кластер {clusster}')"
   ]
  }
 ],
 "metadata": {
  "interpreter": {
   "hash": "b89b5cfaba6639976dc87ff2fec6d58faec662063367e2c229c520fe71072417"
  },
  "kernelspec": {
   "display_name": "Python 3.10.0 64-bit",
   "language": "python",
   "name": "python3"
  },
  "language_info": {
   "codemirror_mode": {
    "name": "ipython",
    "version": 3
   },
   "file_extension": ".py",
   "mimetype": "text/x-python",
   "name": "python",
   "nbconvert_exporter": "python",
   "pygments_lexer": "ipython3",
   "version": "3.10.0"
  },
  "orig_nbformat": 4
 },
 "nbformat": 4,
 "nbformat_minor": 2
}
